{
 "cells": [
  {
   "cell_type": "code",
   "execution_count": 1,
   "id": "5a3fb50d-d3fa-40a0-b5b4-218e2282039e",
   "metadata": {
    "tags": []
   },
   "outputs": [],
   "source": [
    "from pathlib import Path\n",
    "from kafka import KafkaConsumer,TopicPartition\n",
    "from dotenv import load_dotenv\n",
    "import os"
   ]
  },
  {
   "cell_type": "code",
   "execution_count": 2,
   "id": "95f50519-1526-4b16-a11c-e67d8f9185d2",
   "metadata": {
    "tags": []
   },
   "outputs": [
    {
     "data": {
      "text/plain": [
       "True"
      ]
     },
     "execution_count": 2,
     "metadata": {},
     "output_type": "execute_result"
    }
   ],
   "source": [
    "dotenv_path = Path('/resources/.env')\n",
    "load_dotenv(dotenv_path=dotenv_path)"
   ]
  },
  {
   "cell_type": "code",
   "execution_count": 3,
   "id": "69be1e1e-5744-4a3e-9159-29069f367807",
   "metadata": {
    "tags": []
   },
   "outputs": [],
   "source": [
    "kafka_host = os.getenv('KAFKA_HOST_ASSIGNMENT')\n",
    "kafka_topic = os.getenv('KAFKA_TOPIC_NAME_ASSIGNMENT')\n",
    "kafka_topic_partition = os.getenv('KAFKA_TOPIC_NAME_ASSIGNMENT') + \"-1\""
   ]
  },
  {
   "cell_type": "code",
   "execution_count": 4,
   "id": "d895a434-1773-423e-8ef6-65b099fbb42c",
   "metadata": {
    "tags": []
   },
   "outputs": [],
   "source": [
    "from kafka import TopicPartition\n",
    "\n",
    "consumer = KafkaConsumer(group_id='dibimbing-group',\n",
    "                         bootstrap_servers=[f'{kafka_host}:9092'],\n",
    "                         value_deserializer=lambda m: json.loads(m.decode('ascii')),\n",
    "                         auto_offset_reset='earliest',\n",
    "                         enable_auto_commit=False\n",
    "                        )\n",
    "consumer.assign([TopicPartition(kafka_topic_partition, 2)])"
   ]
  },
  {
   "cell_type": "code",
   "execution_count": 5,
   "id": "a243ce98-fab0-474e-8ae6-4b0e58742929",
   "metadata": {
    "tags": []
   },
   "outputs": [],
   "source": [
    "# To consume latest messages and auto-commit offsets\n",
    "consumer = KafkaConsumer(kafka_topic_partition,\n",
    "                         group_id='assignment',\n",
    "                         bootstrap_servers=[f'{kafka_host}:9092'])"
   ]
  },
  {
   "cell_type": "code",
   "execution_count": null,
   "id": "537f8598-d000-433a-9d92-d3f7c7f01ec5",
   "metadata": {
    "tags": []
   },
   "outputs": [
    {
     "name": "stdout",
     "output_type": "stream",
     "text": [
      "school-topic-1:0:17: key=None value=b'{\"student_id\": \"085c1381-9507-4f53-8d28-80d63511f27b\", \"student_name\": \"Justin Murphy\", \"grade\": \"9th\", \"address\": \"202 Sarah Vista Apt. 224\\\\nWest Karen, ND 26170\", \"email\": \"stanleymegan@example.com\", \"phone_number\": \"106.261.9507x1491\", \"enrollment_date\": \"2023-03-18\", \"favorite_subject\": \"Music\"}'\n",
      "school-topic-1:0:18: key=None value=b'{\"student_id\": \"ffa80d90-7a8c-462f-9fed-72d52c49e338\", \"student_name\": \"Brandy Sharp\", \"grade\": \"11th\", \"address\": \"309 Wilson Locks\\\\nNew Biancabury, MT 75270\", \"email\": \"jennifer02@example.com\", \"phone_number\": \"455.906.6566x60934\", \"enrollment_date\": \"2020-07-27\", \"favorite_subject\": \"Art\"}'\n",
      "school-topic-1:0:19: key=None value=b'{\"student_id\": \"24d91b55-d2b2-4ce2-81ff-787f7ef3aa1f\", \"student_name\": \"Kristen Beasley\", \"grade\": \"4th\", \"address\": \"870 Jeffrey Causeway\\\\nCourtneyland, MD 99630\", \"email\": \"hgonzales@example.com\", \"phone_number\": \"001-252-251-4648x6706\", \"enrollment_date\": \"2022-12-04\", \"favorite_subject\": \"Math\"}'\n",
      "school-topic-1:0:20: key=None value=b'{\"student_id\": \"8a7752c5-0824-4ef6-9970-9d6f1dde5621\", \"student_name\": \"Daniel Weaver\", \"grade\": \"4th\", \"address\": \"03870 Barnes Circle\\\\nLake Sabrinamouth, MO 96921\", \"email\": \"ojones@example.com\", \"phone_number\": \"495-781-6760x3499\", \"enrollment_date\": \"2023-05-27\", \"favorite_subject\": \"Science\"}'\n",
      "school-topic-1:0:21: key=None value=b'{\"student_id\": \"20d25aaa-9ac2-4da1-ab9b-7c9fc7b546ff\", \"student_name\": \"Kara Salinas\", \"grade\": \"4th\", \"address\": \"748 Robert Meadow Apt. 018\\\\nValenciamouth, NH 32802\", \"email\": \"kimberly70@example.com\", \"phone_number\": \"001-283-490-0731x2546\", \"enrollment_date\": \"2023-06-01\", \"favorite_subject\": \"Art\"}'\n",
      "school-topic-1:0:22: key=None value=b'{\"student_id\": \"c59c528b-443b-43d3-a7e5-0a883c698b09\", \"student_name\": \"Dennis Williams\", \"grade\": \"8th\", \"address\": \"5870 Campbell Hollow Suite 595\\\\nSouth Markland, IN 81843\", \"email\": \"tammy47@example.com\", \"phone_number\": \"706-990-2237x41024\", \"enrollment_date\": \"2021-11-15\", \"favorite_subject\": \"Art\"}'\n",
      "school-topic-1:0:23: key=None value=b'{\"student_id\": \"491d1ed8-1735-4ed3-9f95-6b2d0fb68361\", \"student_name\": \"Tammy Hale\", \"grade\": \"3rd\", \"address\": \"966 Tina Springs\\\\nSouth Veronicashire, DC 80559\", \"email\": \"maryrodriguez@example.com\", \"phone_number\": \"034-260-0527\", \"enrollment_date\": \"2021-06-11\", \"favorite_subject\": \"History\"}'\n",
      "school-topic-1:0:24: key=None value=b'{\"student_id\": \"cfceedc7-46c1-4bb7-8015-44c1fb937f1c\", \"student_name\": \"Mark Mann\", \"grade\": \"3rd\", \"address\": \"8000 Ashley Crossing Suite 536\\\\nWest Robert, OH 15641\", \"email\": \"mark44@example.net\", \"phone_number\": \"602-316-6100x652\", \"enrollment_date\": \"2022-10-01\", \"favorite_subject\": \"Science\"}'\n",
      "school-topic-1:0:25: key=None value=b'{\"student_id\": \"da6e3666-62f8-4a66-b291-e415aa264734\", \"student_name\": \"Joyce Murphy\", \"grade\": \"11th\", \"address\": \"55349 Barnes Brooks Suite 933\\\\nDownsburgh, DE 29865\", \"email\": \"nathandavis@example.com\", \"phone_number\": \"422-898-3299x1760\", \"enrollment_date\": \"2024-07-21\", \"favorite_subject\": \"History\"}'\n",
      "school-topic-1:0:26: key=None value=b'{\"student_id\": \"b39a561f-bb53-49d1-80a7-adeb195a30eb\", \"student_name\": \"Ronald Owen\", \"grade\": \"12th\", \"address\": \"7431 Clay Corners\\\\nPort Brooke, VA 14351\", \"email\": \"qsmith@example.com\", \"phone_number\": \"(704)957-9826x1394\", \"enrollment_date\": \"2022-09-25\", \"favorite_subject\": \"English\"}'\n",
      "school-topic-1:0:27: key=None value=b'{\"student_id\": \"355159e1-ef84-4dea-80ac-c51710bdcb28\", \"student_name\": \"Julie Rogers\", \"grade\": \"8th\", \"address\": \"9208 Valentine Groves Apt. 281\\\\nSouth Jesseborough, MH 37731\", \"email\": \"cunninghamangela@example.com\", \"phone_number\": \"001-852-825-0281x02642\", \"enrollment_date\": \"2023-03-10\", \"favorite_subject\": \"Art\"}'\n",
      "school-topic-1:0:28: key=None value=b'{\"student_id\": \"f8ec50e1-8587-4f59-a0f2-069a34ab068c\", \"student_name\": \"Jessica Bass\", \"grade\": \"5th\", \"address\": \"0357 Gray Shoal\\\\nSouth Christina, VI 36613\", \"email\": \"charlesholmes@example.com\", \"phone_number\": \"(562)956-7133x0048\", \"enrollment_date\": \"2023-05-12\", \"favorite_subject\": \"Art\"}'\n",
      "school-topic-1:0:29: key=None value=b'{\"student_id\": \"bca0a97f-3356-4486-97b0-c2557844f08c\", \"student_name\": \"Jennifer Moody\", \"grade\": \"4th\", \"address\": \"6980 Catherine Harbors Apt. 790\\\\nPort Kimhaven, AZ 60043\", \"email\": \"christopherhanson@example.com\", \"phone_number\": \"805-768-6602\", \"enrollment_date\": \"2023-03-09\", \"favorite_subject\": \"Art\"}'\n",
      "school-topic-1:0:30: key=None value=b'{\"student_id\": \"76a8fddb-cad6-402b-830a-85e971627489\", \"student_name\": \"Jennifer Davis\", \"grade\": \"6th\", \"address\": \"710 Mason Crest\\\\nLindsaybury, AZ 19728\", \"email\": \"ericolson@example.net\", \"phone_number\": \"934.388.0870x04166\", \"enrollment_date\": \"2022-07-08\", \"favorite_subject\": \"Art\"}'\n",
      "school-topic-1:0:31: key=None value=b'{\"student_id\": \"f798c3f9-4bdd-4a7c-bb16-a87db9ef3793\", \"student_name\": \"Crystal Maxwell\", \"grade\": \"11th\", \"address\": \"78792 Mills Cape\\\\nGordonfurt, LA 70482\", \"email\": \"jennifer58@example.net\", \"phone_number\": \"+1-266-842-3845x608\", \"enrollment_date\": \"2020-10-29\", \"favorite_subject\": \"Music\"}'\n",
      "school-topic-1:0:32: key=None value=b'{\"student_id\": \"bd8c7718-fe34-484c-af40-2df6520cb15e\", \"student_name\": \"Shelia Moore\", \"grade\": \"5th\", \"address\": \"620 Karen Plains Apt. 987\\\\nEast Kerry, WY 76804\", \"email\": \"shelby18@example.net\", \"phone_number\": \"447.387.4395\", \"enrollment_date\": \"2024-05-16\", \"favorite_subject\": \"Music\"}'\n",
      "school-topic-1:0:33: key=None value=b'{\"student_id\": \"d0768e9d-234d-436e-ac0a-6fc9eef73366\", \"student_name\": \"Bobby Harris\", \"grade\": \"2nd\", \"address\": \"47121 Timothy Shores\\\\nBrownfurt, NM 29165\", \"email\": \"dianawhite@example.com\", \"phone_number\": \"+1-555-284-1310x43878\", \"enrollment_date\": \"2023-11-16\", \"favorite_subject\": \"Science\"}'\n",
      "school-topic-1:0:34: key=None value=b'{\"student_id\": \"7b90d728-b03b-438c-ae24-7f929bc5c548\", \"student_name\": \"Dennis Davis\", \"grade\": \"1st\", \"address\": \"38175 Manning Ferry\\\\nPort Brenda, VA 98559\", \"email\": \"charlene59@example.com\", \"phone_number\": \"(507)515-7206x74614\", \"enrollment_date\": \"2022-05-09\", \"favorite_subject\": \"Science\"}'\n",
      "school-topic-1:0:35: key=None value=b'{\"student_id\": \"bc2b13bd-ecba-4493-b8db-f61b85ac2d0b\", \"student_name\": \"William Greene\", \"grade\": \"6th\", \"address\": \"67067 Jackson Port\\\\nWest Allisonbury, NM 07276\", \"email\": \"ibuchanan@example.com\", \"phone_number\": \"001-385-144-4265x427\", \"enrollment_date\": \"2020-09-09\", \"favorite_subject\": \"English\"}'\n",
      "school-topic-1:0:36: key=None value=b'{\"student_id\": \"a58f920b-fdca-414c-b052-bc42ee6abacb\", \"student_name\": \"Seth Mitchell\", \"grade\": \"4th\", \"address\": \"037 James Mission\\\\nPort Emilymouth, CT 83851\", \"email\": \"beckysingleton@example.com\", \"phone_number\": \"792.457.6972x06071\", \"enrollment_date\": \"2021-01-28\", \"favorite_subject\": \"Physical Education\"}'\n",
      "school-topic-1:0:37: key=None value=b'{\"student_id\": \"4cba54de-d79d-4426-bf9a-d752981ed69b\", \"student_name\": \"Mike Roberson\", \"grade\": \"10th\", \"address\": \"318 Hall Mountains\\\\nNew Allisonberg, CA 89494\", \"email\": \"amartin@example.net\", \"phone_number\": \"268.101.7215x22116\", \"enrollment_date\": \"2023-08-17\", \"favorite_subject\": \"Math\"}'\n",
      "school-topic-1:0:38: key=None value=b'{\"student_id\": \"8c2d9c37-1495-40ce-890f-11baf43dc536\", \"student_name\": \"Ronald Gallegos\", \"grade\": \"5th\", \"address\": \"PSC 7723, Box 0137\\\\nAPO AP 64146\", \"email\": \"nicolefernandez@example.org\", \"phone_number\": \"001-841-473-7559\", \"enrollment_date\": \"2021-11-30\", \"favorite_subject\": \"English\"}'\n",
      "school-topic-1:0:39: key=None value=b'{\"student_id\": \"74773596-463d-4b40-a0be-e18a87597dcd\", \"student_name\": \"Daniel Ramirez\", \"grade\": \"12th\", \"address\": \"3993 William Corner\\\\nChristopherburgh, MT 44457\", \"email\": \"johnny99@example.org\", \"phone_number\": \"0258486338\", \"enrollment_date\": \"2023-01-23\", \"favorite_subject\": \"Science\"}'\n",
      "school-topic-1:0:40: key=None value=b'{\"student_id\": \"4f0fe867-3a74-4b3a-93e2-539122e5554d\", \"student_name\": \"Daniel Finley\", \"grade\": \"5th\", \"address\": \"400 Lisa Alley Apt. 380\\\\nWest Kelly, PR 07499\", \"email\": \"chad03@example.com\", \"phone_number\": \"001-368-150-9287x7834\", \"enrollment_date\": \"2021-06-26\", \"favorite_subject\": \"Science\"}'\n",
      "school-topic-1:0:41: key=None value=b'{\"student_id\": \"7e5c224f-1f27-43b0-893f-fa4acff23a1c\", \"student_name\": \"Wanda Hester\", \"grade\": \"10th\", \"address\": \"968 Anna Square\\\\nDeborahland, ID 55129\", \"email\": \"ian65@example.org\", \"phone_number\": \"001-870-226-2466\", \"enrollment_date\": \"2021-06-11\", \"favorite_subject\": \"Science\"}'\n"
     ]
    }
   ],
   "source": [
    "for message in consumer:\n",
    "    print (\"%s:%d:%d: key=%s value=%s\" % (message.topic, message.partition,\n",
    "                                          message.offset, message.key,\n",
    "                                          message.value))"
   ]
  },
  {
   "cell_type": "code",
   "execution_count": null,
   "id": "ca470a1b-13be-4d7b-939a-81052c8b566b",
   "metadata": {},
   "outputs": [],
   "source": []
  }
 ],
 "metadata": {
  "kernelspec": {
   "display_name": "Python 3 (ipykernel)",
   "language": "python",
   "name": "python3"
  },
  "language_info": {
   "codemirror_mode": {
    "name": "ipython",
    "version": 3
   },
   "file_extension": ".py",
   "mimetype": "text/x-python",
   "name": "python",
   "nbconvert_exporter": "python",
   "pygments_lexer": "ipython3",
   "version": "3.10.10"
  }
 },
 "nbformat": 4,
 "nbformat_minor": 5
}
