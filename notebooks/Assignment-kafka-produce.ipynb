{
 "cells": [
  {
   "cell_type": "code",
   "execution_count": 1,
   "metadata": {
    "tags": []
   },
   "outputs": [],
   "source": [
    "import json\n",
    "import uuid\n",
    "import os\n",
    "import json\n",
    "from dotenv import load_dotenv\n",
    "from pathlib import Path\n",
    "from kafka import KafkaProducer,KafkaConsumer,TopicPartition\n",
    "from faker import Faker\n",
    "from time import sleep"
   ]
  },
  {
   "cell_type": "code",
   "execution_count": 2,
   "metadata": {
    "tags": []
   },
   "outputs": [
    {
     "data": {
      "text/plain": [
       "True"
      ]
     },
     "execution_count": 2,
     "metadata": {},
     "output_type": "execute_result"
    }
   ],
   "source": [
    "dotenv_path = Path('/resources/.env')\n",
    "load_dotenv(dotenv_path=dotenv_path)"
   ]
  },
  {
   "cell_type": "code",
   "execution_count": 3,
   "metadata": {
    "tags": []
   },
   "outputs": [],
   "source": [
    "kafka_host = os.getenv('KAFKA_HOST_ASSIGNMENT')\n",
    "kafka_topic = os.getenv('KAFKA_TOPIC_NAME_ASSIGNMENT')\n",
    "kafka_topic_partition = os.getenv('KAFKA_TOPIC_NAME_ASSIGNMENT') + \"-1\""
   ]
  },
  {
   "cell_type": "code",
   "execution_count": 4,
   "metadata": {
    "tags": []
   },
   "outputs": [
    {
     "name": "stdout",
     "output_type": "stream",
     "text": [
      "assignment-kafka school-topic school-topic-1\n"
     ]
    }
   ],
   "source": [
    "print(kafka_host,kafka_topic,kafka_topic_partition)"
   ]
  },
  {
   "cell_type": "code",
   "execution_count": 5,
   "metadata": {
    "tags": []
   },
   "outputs": [],
   "source": [
    "producer = KafkaProducer(bootstrap_servers=f'{kafka_host}:9092')"
   ]
  },
  {
   "cell_type": "code",
   "execution_count": 6,
   "metadata": {
    "tags": []
   },
   "outputs": [],
   "source": [
    "_instance = Faker()\n",
    "global faker\n",
    "faker = Faker()"
   ]
  },
  {
   "cell_type": "code",
   "execution_count": null,
   "metadata": {
    "tags": []
   },
   "outputs": [
    {
     "name": "stdout",
     "output_type": "stream",
     "text": [
      "Record 1: ffa80d90-7a8c-462f-9fed-72d52c49e338 RecordMetadata(topic='school-topic-1', partition=0, topic_partition=TopicPartition(topic='school-topic-1', partition=0), offset=18, timestamp=1725676646601, log_start_offset=0, checksum=None, serialized_key_size=-1, serialized_value_size=293, serialized_header_size=-1)\n",
      "Record 2: 24d91b55-d2b2-4ce2-81ff-787f7ef3aa1f RecordMetadata(topic='school-topic-1', partition=0, topic_partition=TopicPartition(topic='school-topic-1', partition=0), offset=19, timestamp=1725676651654, log_start_offset=0, checksum=None, serialized_key_size=-1, serialized_value_size=300, serialized_header_size=-1)\n",
      "Record 3: 8a7752c5-0824-4ef6-9970-9d6f1dde5621 RecordMetadata(topic='school-topic-1', partition=0, topic_partition=TopicPartition(topic='school-topic-1', partition=0), offset=20, timestamp=1725676656664, log_start_offset=0, checksum=None, serialized_key_size=-1, serialized_value_size=298, serialized_header_size=-1)\n",
      "Record 4: 20d25aaa-9ac2-4da1-ab9b-7c9fc7b546ff RecordMetadata(topic='school-topic-1', partition=0, topic_partition=TopicPartition(topic='school-topic-1', partition=0), offset=21, timestamp=1725676661674, log_start_offset=0, checksum=None, serialized_key_size=-1, serialized_value_size=304, serialized_header_size=-1)\n",
      "Record 5: c59c528b-443b-43d3-a7e5-0a883c698b09 RecordMetadata(topic='school-topic-1', partition=0, topic_partition=TopicPartition(topic='school-topic-1', partition=0), offset=22, timestamp=1725676666683, log_start_offset=0, checksum=None, serialized_key_size=-1, serialized_value_size=306, serialized_header_size=-1)\n",
      "Record 6: 491d1ed8-1735-4ed3-9f95-6b2d0fb68361 RecordMetadata(topic='school-topic-1', partition=0, topic_partition=TopicPartition(topic='school-topic-1', partition=0), offset=23, timestamp=1725676671693, log_start_offset=0, checksum=None, serialized_key_size=-1, serialized_value_size=296, serialized_header_size=-1)\n",
      "Record 7: cfceedc7-46c1-4bb7-8015-44c1fb937f1c RecordMetadata(topic='school-topic-1', partition=0, topic_partition=TopicPartition(topic='school-topic-1', partition=0), offset=24, timestamp=1725676676701, log_start_offset=0, checksum=None, serialized_key_size=-1, serialized_value_size=298, serialized_header_size=-1)\n",
      "Record 8: da6e3666-62f8-4a66-b291-e415aa264734 RecordMetadata(topic='school-topic-1', partition=0, topic_partition=TopicPartition(topic='school-topic-1', partition=0), offset=25, timestamp=1725676681711, log_start_offset=0, checksum=None, serialized_key_size=-1, serialized_value_size=306, serialized_header_size=-1)\n",
      "Record 9: b39a561f-bb53-49d1-80a7-adeb195a30eb RecordMetadata(topic='school-topic-1', partition=0, topic_partition=TopicPartition(topic='school-topic-1', partition=0), offset=26, timestamp=1725676686722, log_start_offset=0, checksum=None, serialized_key_size=-1, serialized_value_size=290, serialized_header_size=-1)\n",
      "Record 10: 355159e1-ef84-4dea-80ac-c51710bdcb28 RecordMetadata(topic='school-topic-1', partition=0, topic_partition=TopicPartition(topic='school-topic-1', partition=0), offset=27, timestamp=1725676691732, log_start_offset=0, checksum=None, serialized_key_size=-1, serialized_value_size=320, serialized_header_size=-1)\n",
      "Record 11: f8ec50e1-8587-4f59-a0f2-069a34ab068c RecordMetadata(topic='school-topic-1', partition=0, topic_partition=TopicPartition(topic='school-topic-1', partition=0), offset=28, timestamp=1725676696743, log_start_offset=0, checksum=None, serialized_key_size=-1, serialized_value_size=295, serialized_header_size=-1)\n",
      "Record 12: bca0a97f-3356-4486-97b0-c2557844f08c RecordMetadata(topic='school-topic-1', partition=0, topic_partition=TopicPartition(topic='school-topic-1', partition=0), offset=29, timestamp=1725676701751, log_start_offset=0, checksum=None, serialized_key_size=-1, serialized_value_size=309, serialized_header_size=-1)\n",
      "Record 13: 76a8fddb-cad6-402b-830a-85e971627489 RecordMetadata(topic='school-topic-1', partition=0, topic_partition=TopicPartition(topic='school-topic-1', partition=0), offset=30, timestamp=1725676706756, log_start_offset=0, checksum=None, serialized_key_size=-1, serialized_value_size=289, serialized_header_size=-1)\n",
      "Record 14: f798c3f9-4bdd-4a7c-bb16-a87db9ef3793 RecordMetadata(topic='school-topic-1', partition=0, topic_partition=TopicPartition(topic='school-topic-1', partition=0), offset=31, timestamp=1725676711764, log_start_offset=0, checksum=None, serialized_key_size=-1, serialized_value_size=295, serialized_header_size=-1)\n",
      "Record 15: bd8c7718-fe34-484c-af40-2df6520cb15e RecordMetadata(topic='school-topic-1', partition=0, topic_partition=TopicPartition(topic='school-topic-1', partition=0), offset=32, timestamp=1725676716774, log_start_offset=0, checksum=None, serialized_key_size=-1, serialized_value_size=291, serialized_header_size=-1)\n",
      "Record 16: d0768e9d-234d-436e-ac0a-6fc9eef73366 RecordMetadata(topic='school-topic-1', partition=0, topic_partition=TopicPartition(topic='school-topic-1', partition=0), offset=33, timestamp=1725676721779, log_start_offset=0, checksum=None, serialized_key_size=-1, serialized_value_size=298, serialized_header_size=-1)\n",
      "Record 17: 7b90d728-b03b-438c-ae24-7f929bc5c548 RecordMetadata(topic='school-topic-1', partition=0, topic_partition=TopicPartition(topic='school-topic-1', partition=0), offset=34, timestamp=1725676726788, log_start_offset=0, checksum=None, serialized_key_size=-1, serialized_value_size=297, serialized_header_size=-1)\n",
      "Record 18: bc2b13bd-ecba-4493-b8db-f61b85ac2d0b RecordMetadata(topic='school-topic-1', partition=0, topic_partition=TopicPartition(topic='school-topic-1', partition=0), offset=35, timestamp=1725676731795, log_start_offset=0, checksum=None, serialized_key_size=-1, serialized_value_size=303, serialized_header_size=-1)\n",
      "Record 19: a58f920b-fdca-414c-b052-bc42ee6abacb RecordMetadata(topic='school-topic-1', partition=0, topic_partition=TopicPartition(topic='school-topic-1', partition=0), offset=36, timestamp=1725676736799, log_start_offset=0, checksum=None, serialized_key_size=-1, serialized_value_size=314, serialized_header_size=-1)\n",
      "Record 20: 4cba54de-d79d-4426-bf9a-d752981ed69b RecordMetadata(topic='school-topic-1', partition=0, topic_partition=TopicPartition(topic='school-topic-1', partition=0), offset=37, timestamp=1725676741808, log_start_offset=0, checksum=None, serialized_key_size=-1, serialized_value_size=295, serialized_header_size=-1)\n",
      "Record 21: 8c2d9c37-1495-40ce-890f-11baf43dc536 RecordMetadata(topic='school-topic-1', partition=0, topic_partition=TopicPartition(topic='school-topic-1', partition=0), offset=38, timestamp=1725676746817, log_start_offset=0, checksum=None, serialized_key_size=-1, serialized_value_size=292, serialized_header_size=-1)\n",
      "Record 22: 74773596-463d-4b40-a0be-e18a87597dcd RecordMetadata(topic='school-topic-1', partition=0, topic_partition=TopicPartition(topic='school-topic-1', partition=0), offset=39, timestamp=1725676751828, log_start_offset=0, checksum=None, serialized_key_size=-1, serialized_value_size=294, serialized_header_size=-1)\n",
      "Record 23: 4f0fe867-3a74-4b3a-93e2-539122e5554d RecordMetadata(topic='school-topic-1', partition=0, topic_partition=TopicPartition(topic='school-topic-1', partition=0), offset=40, timestamp=1725676756839, log_start_offset=0, checksum=None, serialized_key_size=-1, serialized_value_size=299, serialized_header_size=-1)\n",
      "Record 24: 7e5c224f-1f27-43b0-893f-fa4acff23a1c RecordMetadata(topic='school-topic-1', partition=0, topic_partition=TopicPartition(topic='school-topic-1', partition=0), offset=41, timestamp=1725676761851, log_start_offset=0, checksum=None, serialized_key_size=-1, serialized_value_size=286, serialized_header_size=-1)\n"
     ]
    }
   ],
   "source": [
    "class SchoolDataGenerator:\n",
    "    @staticmethod\n",
    "    def get_student_data():\n",
    "        enrollment_date = faker.date_this_decade().isoformat()  # Convert date to string\n",
    "        return [\n",
    "            str(uuid.uuid4()),\n",
    "            faker.name(),\n",
    "            faker.random_element(elements=['1st', '2nd', '3rd', '4th', '5th', '6th', '7th', '8th', '9th', '10th', '11th', '12th']),\n",
    "            faker.address(),\n",
    "            faker.email(),\n",
    "            faker.phone_number(),\n",
    "            enrollment_date,  # Use the converted date\n",
    "            faker.random_element(elements=['Math', 'Science', 'History', 'English', 'Art', 'Physical Education', 'Music'])\n",
    "        ]\n",
    "\n",
    "for i in range(1, 400):\n",
    "    columns = [\n",
    "        \"student_id\", \"student_name\",  \"grade\", \"address\", \n",
    "        \"email\", \"phone_number\", \"enrollment_date\", \"favorite_subject\"\n",
    "    ]\n",
    "    data_list = SchoolDataGenerator.get_student_data()\n",
    "    json_data = dict(zip(columns, data_list))\n",
    "    \n",
    "    _payload = json.dumps(json_data).encode(\"utf-8\")\n",
    "    response = producer.send(topic=kafka_topic_partition, value=_payload)\n",
    "    print(f\"Record {i}: {json_data['student_id']}\", response.get())\n",
    "    sleep(5)  # Send data every 5 seconds\n"
   ]
  },
  {
   "cell_type": "code",
   "execution_count": 10,
   "metadata": {
    "tags": []
   },
   "outputs": [],
   "source": []
  },
  {
   "cell_type": "code",
   "execution_count": null,
   "metadata": {},
   "outputs": [],
   "source": []
  },
  {
   "cell_type": "code",
   "execution_count": null,
   "metadata": {},
   "outputs": [],
   "source": []
  },
  {
   "cell_type": "code",
   "execution_count": null,
   "metadata": {},
   "outputs": [],
   "source": []
  }
 ],
 "metadata": {
  "kernelspec": {
   "display_name": "Python 3 (ipykernel)",
   "language": "python",
   "name": "python3"
  },
  "language_info": {
   "codemirror_mode": {
    "name": "ipython",
    "version": 3
   },
   "file_extension": ".py",
   "mimetype": "text/x-python",
   "name": "python",
   "nbconvert_exporter": "python",
   "pygments_lexer": "ipython3",
   "version": "3.10.10"
  }
 },
 "nbformat": 4,
 "nbformat_minor": 4
}
